{
  "metadata": {
    "kernelspec": {
      "language": "python",
      "display_name": "Python 3",
      "name": "python3"
    },
    "language_info": {
      "name": "python",
      "version": "3.7.12",
      "mimetype": "text/x-python",
      "codemirror_mode": {
        "name": "ipython",
        "version": 3
      },
      "pygments_lexer": "ipython3",
      "nbconvert_exporter": "python",
      "file_extension": ".py"
    },
    "kaggle": {
      "accelerator": "gpu",
      "dataSources": [
        {
          "sourceId": 1400106,
          "sourceType": "datasetVersion",
          "datasetId": 818027
        },
        {
          "sourceId": 8981843,
          "sourceType": "datasetVersion",
          "datasetId": 5408762
        },
        {
          "sourceId": 8993472,
          "sourceType": "datasetVersion",
          "datasetId": 5417063
        },
        {
          "sourceId": 8993742,
          "sourceType": "datasetVersion",
          "datasetId": 5417236
        },
        {
          "sourceId": 8993848,
          "sourceType": "datasetVersion",
          "datasetId": 5417302
        },
        {
          "sourceId": 8994999,
          "sourceType": "datasetVersion",
          "datasetId": 5417992
        },
        {
          "sourceId": 8995009,
          "sourceType": "datasetVersion",
          "datasetId": 5417998
        },
        {
          "sourceId": 79614,
          "sourceType": "modelInstanceVersion",
          "modelInstanceId": 66892,
          "modelId": 91901
        }
      ],
      "dockerImageVersionId": 30260,
      "isInternetEnabled": false,
      "language": "python",
      "sourceType": "notebook",
      "isGpuEnabled": true
    },
    "colab": {
      "provenance": [],
      "include_colab_link": true
    }
  },
  "nbformat_minor": 0,
  "nbformat": 4,
  "cells": [
    {
      "cell_type": "markdown",
      "metadata": {
        "id": "view-in-github",
        "colab_type": "text"
      },
      "source": [
        "<a href=\"https://colab.research.google.com/github/welcomedee/ml_lab_aat/blob/main/ml_aat.ipynb\" target=\"_parent\"><img src=\"https://colab.research.google.com/assets/colab-badge.svg\" alt=\"Open In Colab\"/></a>"
      ]
    },
    {
      "source": [
        "<a href=\"https://www.kaggle.com/code/danush121/ml-aat?scriptVersionId=189031895\" target=\"_blank\"><img align=\"left\" alt=\"Kaggle\" title=\"Open in Kaggle\" src=\"https://kaggle.com/static/images/open-in-kaggle.svg\"></a>"
      ],
      "metadata": {
        "id": "Y-NzyIBKWZS4"
      },
      "cell_type": "markdown"
    },
    {
      "cell_type": "markdown",
      "source": [
        "# Handwriting Recognition using CNN + RNN\n",
        "\n",
        "\n",
        "## Loading Python Libraries"
      ],
      "metadata": {
        "id": "5hgDr4t0WZS7"
      }
    },
    {
      "cell_type": "code",
      "source": [
        "import numpy as np\n",
        "import pandas as pd\n",
        "import cv2\n",
        "import matplotlib.pyplot as plt\n",
        "import seaborn as sns\n",
        "import os\n",
        "import scipy as sp\n",
        "import random\n",
        "import warnings\n",
        "import string\n",
        "import datetime\n",
        "warnings.filterwarnings(\"ignore\")\n",
        "%matplotlib inline\n",
        "\n",
        "import tensorflow as tf\n",
        "from keras import backend as K\n",
        "from keras.models import Model\n",
        "from keras.layers import Input, Conv2D, MaxPooling2D, Reshape, Bidirectional, LSTM, Dense, Lambda, Activation, BatchNormalization, Dropout\n",
        "from tensorflow.keras.optimizers import Adam"
      ],
      "metadata": {
        "execution": {
          "iopub.status.busy": "2024-07-19T13:42:21.435279Z",
          "iopub.execute_input": "2024-07-19T13:42:21.435996Z",
          "iopub.status.idle": "2024-07-19T13:42:21.448868Z",
          "shell.execute_reply.started": "2024-07-19T13:42:21.435942Z",
          "shell.execute_reply": "2024-07-19T13:42:21.447653Z"
        },
        "trusted": true,
        "id": "d3Su-NZmWZS8"
      },
      "outputs": [],
      "execution_count": null
    },
    {
      "cell_type": "markdown",
      "source": [
        "## Loading, Viewing Dataset\n",
        "\n"
      ],
      "metadata": {
        "id": "WzHoUFXqWZS9"
      }
    },
    {
      "cell_type": "code",
      "source": [
        "train_name = pd.read_csv('../input/handwriting-recognition/written_name_train_v2.csv')\n",
        "test_name = pd.read_csv('../input/handwriting-recognition/written_name_test_v2.csv')\n",
        "val_name = pd.read_csv('../input/handwriting-recognition/written_name_validation_v2.csv')"
      ],
      "metadata": {
        "execution": {
          "iopub.status.busy": "2024-07-19T13:42:21.45164Z",
          "iopub.execute_input": "2024-07-19T13:42:21.451984Z",
          "iopub.status.idle": "2024-07-19T13:42:22.052236Z",
          "shell.execute_reply.started": "2024-07-19T13:42:21.451933Z",
          "shell.execute_reply": "2024-07-19T13:42:22.051253Z"
        },
        "trusted": true,
        "id": "o3ZmcwB6WZS-"
      },
      "outputs": [],
      "execution_count": null
    },
    {
      "cell_type": "code",
      "source": [
        "train_name.head()"
      ],
      "metadata": {
        "execution": {
          "iopub.status.busy": "2024-07-19T13:42:22.05359Z",
          "iopub.execute_input": "2024-07-19T13:42:22.053999Z",
          "iopub.status.idle": "2024-07-19T13:42:22.07598Z",
          "shell.execute_reply.started": "2024-07-19T13:42:22.053939Z",
          "shell.execute_reply": "2024-07-19T13:42:22.074915Z"
        },
        "trusted": true,
        "id": "qC5MVufEWZS-"
      },
      "outputs": [],
      "execution_count": null
    },
    {
      "cell_type": "code",
      "source": [
        "train_name.describe()"
      ],
      "metadata": {
        "execution": {
          "iopub.status.busy": "2024-07-19T13:42:22.077235Z",
          "iopub.execute_input": "2024-07-19T13:42:22.07752Z",
          "iopub.status.idle": "2024-07-19T13:42:22.562688Z",
          "shell.execute_reply.started": "2024-07-19T13:42:22.077494Z",
          "shell.execute_reply": "2024-07-19T13:42:22.561391Z"
        },
        "trusted": true,
        "id": "bMpuo_HpWZS-"
      },
      "outputs": [],
      "execution_count": null
    },
    {
      "cell_type": "code",
      "source": [
        "test_name.describe()"
      ],
      "metadata": {
        "execution": {
          "iopub.status.busy": "2024-07-19T13:42:22.566018Z",
          "iopub.execute_input": "2024-07-19T13:42:22.566785Z",
          "iopub.status.idle": "2024-07-19T13:42:22.627487Z",
          "shell.execute_reply.started": "2024-07-19T13:42:22.566737Z",
          "shell.execute_reply": "2024-07-19T13:42:22.626514Z"
        },
        "trusted": true,
        "id": "zsv9FqpTWZS_"
      },
      "outputs": [],
      "execution_count": null
    },
    {
      "cell_type": "code",
      "source": [
        "train_name.info()"
      ],
      "metadata": {
        "execution": {
          "iopub.status.busy": "2024-07-19T13:42:22.628842Z",
          "iopub.execute_input": "2024-07-19T13:42:22.629312Z",
          "iopub.status.idle": "2024-07-19T13:42:22.716684Z",
          "shell.execute_reply.started": "2024-07-19T13:42:22.629258Z",
          "shell.execute_reply": "2024-07-19T13:42:22.715623Z"
        },
        "trusted": true,
        "id": "yqXF-zKFWZS_"
      },
      "outputs": [],
      "execution_count": null
    },
    {
      "cell_type": "code",
      "source": [
        "test_name.info()"
      ],
      "metadata": {
        "execution": {
          "iopub.status.busy": "2024-07-19T13:42:22.718167Z",
          "iopub.execute_input": "2024-07-19T13:42:22.718543Z",
          "iopub.status.idle": "2024-07-19T13:42:22.745761Z",
          "shell.execute_reply.started": "2024-07-19T13:42:22.718509Z",
          "shell.execute_reply": "2024-07-19T13:42:22.744472Z"
        },
        "trusted": true,
        "id": "TaNEZB78WZTA"
      },
      "outputs": [],
      "execution_count": null
    },
    {
      "cell_type": "code",
      "source": [
        "train_name.shape"
      ],
      "metadata": {
        "execution": {
          "iopub.status.busy": "2024-07-19T13:42:22.747323Z",
          "iopub.execute_input": "2024-07-19T13:42:22.747775Z",
          "iopub.status.idle": "2024-07-19T13:42:22.757899Z",
          "shell.execute_reply.started": "2024-07-19T13:42:22.747731Z",
          "shell.execute_reply": "2024-07-19T13:42:22.756723Z"
        },
        "trusted": true,
        "id": "1hB-T1qrWZTA"
      },
      "outputs": [],
      "execution_count": null
    },
    {
      "cell_type": "code",
      "source": [
        "test_name.shape"
      ],
      "metadata": {
        "execution": {
          "iopub.status.busy": "2024-07-19T13:42:22.759134Z",
          "iopub.execute_input": "2024-07-19T13:42:22.759454Z",
          "iopub.status.idle": "2024-07-19T13:42:22.7682Z",
          "shell.execute_reply.started": "2024-07-19T13:42:22.759425Z",
          "shell.execute_reply": "2024-07-19T13:42:22.766984Z"
        },
        "trusted": true,
        "id": "WIcFdMluWZTA"
      },
      "outputs": [],
      "execution_count": null
    },
    {
      "cell_type": "code",
      "source": [
        "val_name.shape"
      ],
      "metadata": {
        "execution": {
          "iopub.status.busy": "2024-07-19T13:42:22.769877Z",
          "iopub.execute_input": "2024-07-19T13:42:22.77037Z",
          "iopub.status.idle": "2024-07-19T13:42:22.781625Z",
          "shell.execute_reply.started": "2024-07-19T13:42:22.770328Z",
          "shell.execute_reply": "2024-07-19T13:42:22.780596Z"
        },
        "trusted": true,
        "id": "uZsQlfQDWZTB"
      },
      "outputs": [],
      "execution_count": null
    },
    {
      "cell_type": "code",
      "source": [
        "train_name.dtypes"
      ],
      "metadata": {
        "execution": {
          "iopub.status.busy": "2024-07-19T13:42:22.783409Z",
          "iopub.execute_input": "2024-07-19T13:42:22.783868Z",
          "iopub.status.idle": "2024-07-19T13:42:22.793504Z",
          "shell.execute_reply.started": "2024-07-19T13:42:22.783823Z",
          "shell.execute_reply": "2024-07-19T13:42:22.792555Z"
        },
        "trusted": true,
        "id": "oxE72QzNWZTB"
      },
      "outputs": [],
      "execution_count": null
    },
    {
      "cell_type": "code",
      "source": [
        "train_name.columns"
      ],
      "metadata": {
        "execution": {
          "iopub.status.busy": "2024-07-19T13:42:22.794632Z",
          "iopub.execute_input": "2024-07-19T13:42:22.794936Z",
          "iopub.status.idle": "2024-07-19T13:42:22.804187Z",
          "shell.execute_reply.started": "2024-07-19T13:42:22.794889Z",
          "shell.execute_reply": "2024-07-19T13:42:22.80319Z"
        },
        "trusted": true,
        "id": "TU10j9wTWZTD"
      },
      "outputs": [],
      "execution_count": null
    },
    {
      "cell_type": "code",
      "source": [
        "plt.figure(figsize=(15,10))\n",
        "\n",
        "for i in range(6):\n",
        "    ax = plt.subplot(2, 3, i+1)\n",
        "    img_dir = '../input/handwriting-recognition/train_v2/train/'+train_name.loc[i, 'FILENAME']\n",
        "    image = cv2.imread(img_dir, cv2.IMREAD_GRAYSCALE)\n",
        "    plt.imshow(image, cmap = 'gray')\n",
        "    plt.title(train_name.loc[i, 'IDENTITY'], fontsize=12)\n",
        "    plt.axis('off')\n",
        "\n",
        "plt.subplots_adjust(wspace=0.2, hspace=-0.8)"
      ],
      "metadata": {
        "execution": {
          "iopub.status.busy": "2024-07-19T13:42:22.807954Z",
          "iopub.execute_input": "2024-07-19T13:42:22.808442Z",
          "iopub.status.idle": "2024-07-19T13:42:23.338449Z",
          "shell.execute_reply.started": "2024-07-19T13:42:22.808398Z",
          "shell.execute_reply": "2024-07-19T13:42:23.337442Z"
        },
        "trusted": true,
        "id": "xw-hPXO_WZTD"
      },
      "outputs": [],
      "execution_count": null
    },
    {
      "cell_type": "markdown",
      "source": [
        "## Data Cleaning\n"
      ],
      "metadata": {
        "id": "G__4jvVqWZTE"
      }
    },
    {
      "cell_type": "code",
      "source": [
        "print(\"Number of NaNs in the train dataset is: \", train_name['IDENTITY'].isnull().sum())\n",
        "print(\"Number of NaNs in the validation dataset is: \", val_name['IDENTITY'].isnull().sum())\n",
        "print(\"Number of NaNs in the test dataset is: \", test_name['IDENTITY'].isnull().sum())"
      ],
      "metadata": {
        "execution": {
          "iopub.status.busy": "2024-07-19T13:42:23.343325Z",
          "iopub.execute_input": "2024-07-19T13:42:23.343638Z",
          "iopub.status.idle": "2024-07-19T13:42:23.39978Z",
          "shell.execute_reply.started": "2024-07-19T13:42:23.34361Z",
          "shell.execute_reply": "2024-07-19T13:42:23.398743Z"
        },
        "trusted": true,
        "id": "oWO9HgkTWZTG"
      },
      "outputs": [],
      "execution_count": null
    },
    {
      "cell_type": "code",
      "source": [
        "train_name.dropna(axis=0, inplace=True)\n",
        "val_name.dropna(axis=0, inplace=True)\n",
        "test_name.dropna(axis=0, inplace=True)"
      ],
      "metadata": {
        "execution": {
          "iopub.status.busy": "2024-07-19T13:42:23.40133Z",
          "iopub.execute_input": "2024-07-19T13:42:23.401778Z",
          "iopub.status.idle": "2024-07-19T13:42:23.52522Z",
          "shell.execute_reply.started": "2024-07-19T13:42:23.401738Z",
          "shell.execute_reply": "2024-07-19T13:42:23.52424Z"
        },
        "trusted": true,
        "id": "j4yxHeA_WZTH"
      },
      "outputs": [],
      "execution_count": null
    },
    {
      "cell_type": "code",
      "source": [
        "unreadable = train_name[train_name['IDENTITY'] == 'UNREADABLE']\n",
        "unreadable.reset_index(inplace = True, drop = True)\n",
        "\n",
        "plt.figure(figsize=(15,10))\n",
        "\n",
        "for i in range(6):\n",
        "    ax = plt.subplot(2, 3, i+1)\n",
        "    img_dir = '../input/handwriting-recognition/train_v2/train/'+unreadable.loc[i, 'FILENAME']\n",
        "    image = cv2.imread(img_dir, cv2.IMREAD_GRAYSCALE)\n",
        "    plt.imshow(image, cmap = 'gray')\n",
        "    plt.title(unreadable.loc[i, 'IDENTITY'], fontsize=12)\n",
        "    plt.axis('off')\n",
        "\n",
        "plt.subplots_adjust(wspace=0.2, hspace=-0.8)"
      ],
      "metadata": {
        "execution": {
          "iopub.status.busy": "2024-07-19T13:42:23.526455Z",
          "iopub.execute_input": "2024-07-19T13:42:23.526733Z",
          "iopub.status.idle": "2024-07-19T13:42:24.052757Z",
          "shell.execute_reply.started": "2024-07-19T13:42:23.526708Z",
          "shell.execute_reply": "2024-07-19T13:42:24.051712Z"
        },
        "trusted": true,
        "id": "UVHXojSMWZTH"
      },
      "outputs": [],
      "execution_count": null
    },
    {
      "cell_type": "code",
      "source": [
        "train_name = train_name[train_name['IDENTITY'] != 'UNREADABLE']\n",
        "val_name = val_name[val_name['IDENTITY'] != 'UNREADABLE']\n",
        "test_name = test_name[test_name['IDENTITY'] != 'UNREADABLE']"
      ],
      "metadata": {
        "execution": {
          "iopub.status.busy": "2024-07-19T13:42:24.053948Z",
          "iopub.execute_input": "2024-07-19T13:42:24.054252Z",
          "iopub.status.idle": "2024-07-19T13:42:24.151268Z",
          "shell.execute_reply.started": "2024-07-19T13:42:24.054224Z",
          "shell.execute_reply": "2024-07-19T13:42:24.150306Z"
        },
        "trusted": true,
        "id": "lH85VFV9WZTI"
      },
      "outputs": [],
      "execution_count": null
    },
    {
      "cell_type": "code",
      "source": [
        "train_name['IDENTITY'] = train_name['IDENTITY'].str.upper()\n",
        "val_name['IDENTITY'] = val_name['IDENTITY'].str.upper()\n",
        "test_name['IDENTITY'] = test_name['IDENTITY'].str.upper()"
      ],
      "metadata": {
        "execution": {
          "iopub.status.busy": "2024-07-19T13:42:24.152636Z",
          "iopub.execute_input": "2024-07-19T13:42:24.153062Z",
          "iopub.status.idle": "2024-07-19T13:42:24.410276Z",
          "shell.execute_reply.started": "2024-07-19T13:42:24.153019Z",
          "shell.execute_reply": "2024-07-19T13:42:24.409344Z"
        },
        "trusted": true,
        "id": "pF0RCZi1WZTI"
      },
      "outputs": [],
      "execution_count": null
    },
    {
      "cell_type": "code",
      "source": [
        "train_name.reset_index(inplace = True, drop = True)\n",
        "val_name.reset_index(inplace = True, drop = True)\n",
        "test_name.reset_index(inplace = True, drop = True)"
      ],
      "metadata": {
        "execution": {
          "iopub.status.busy": "2024-07-19T13:42:24.411439Z",
          "iopub.execute_input": "2024-07-19T13:42:24.411751Z",
          "iopub.status.idle": "2024-07-19T13:42:24.417741Z",
          "shell.execute_reply.started": "2024-07-19T13:42:24.411723Z",
          "shell.execute_reply": "2024-07-19T13:42:24.416663Z"
        },
        "trusted": true,
        "id": "xeuafT7DWZTI"
      },
      "outputs": [],
      "execution_count": null
    },
    {
      "cell_type": "markdown",
      "source": [
        "## Image Preprocessing\n"
      ],
      "metadata": {
        "id": "40AnEpw4WZTJ"
      }
    },
    {
      "cell_type": "code",
      "source": [
        "def image_processing(img):\n",
        "    (h, w) = img.shape\n",
        "\n",
        "    final_img = np.ones([64, 256])*255 # blank white image\n",
        "\n",
        "    # crop if image dimension exceeds the said criteria\n",
        "    if w > 256:\n",
        "        img = img[:, :256]\n",
        "    if h > 64:\n",
        "        img = img[:64, :]\n",
        "\n",
        "    final_img[:h, :w] = img\n",
        "    return cv2.rotate(final_img, cv2.ROTATE_90_CLOCKWISE)"
      ],
      "metadata": {
        "execution": {
          "iopub.status.busy": "2024-07-19T13:42:24.419153Z",
          "iopub.execute_input": "2024-07-19T13:42:24.41955Z",
          "iopub.status.idle": "2024-07-19T13:42:24.427951Z",
          "shell.execute_reply.started": "2024-07-19T13:42:24.419511Z",
          "shell.execute_reply": "2024-07-19T13:42:24.426898Z"
        },
        "trusted": true,
        "id": "6aia-oywWZTJ"
      },
      "outputs": [],
      "execution_count": null
    },
    {
      "cell_type": "markdown",
      "source": [
        "## Training"
      ],
      "metadata": {
        "id": "aaTu5HHNWZTK"
      }
    },
    {
      "cell_type": "code",
      "source": [
        "train_size = 30000\n",
        "val_size = 3000\n",
        "test_size = 3000\n",
        "train_x = []\n",
        "val_x = []\n",
        "test_x = []\n",
        "\n",
        "for i in range(train_size):\n",
        "    img_dir = '../input/handwriting-recognition/train_v2/train/' + train_name.loc[i, 'FILENAME']\n",
        "    image = cv2.imread(img_dir, cv2.IMREAD_GRAYSCALE)\n",
        "    image = image_processing(image)\n",
        "    image = image/255.\n",
        "    train_x.append(image)\n",
        "\n",
        "for i in range(val_size):\n",
        "    img_dir = '../input/handwriting-recognition/validation_v2/validation/' + val_name.loc[i, 'FILENAME']\n",
        "    image = cv2.imread(img_dir, cv2.IMREAD_GRAYSCALE)\n",
        "    image = image_processing(image)\n",
        "    image = image/255.\n",
        "    val_x.append(image)\n",
        "\n",
        "for i in range(test_size):\n",
        "    img_dir = '../input/handwriting-recognition/test_v2/test/' + test_name.loc[i, 'FILENAME']\n",
        "    image = cv2.imread(img_dir, cv2.IMREAD_GRAYSCALE)\n",
        "    image = image_processing(image)\n",
        "    image = image/255.\n",
        "    test_x.append(image)\n",
        "\n",
        "train_x = np.array(train_x).reshape(-1, 256, 64, 1)\n",
        "val_x = np.array(val_x).reshape(-1, 256, 64, 1)\n",
        "test_x = np.array(test_x).reshape(-1, 256, 64, 1)"
      ],
      "metadata": {
        "execution": {
          "iopub.status.busy": "2024-07-19T13:42:24.429263Z",
          "iopub.execute_input": "2024-07-19T13:42:24.429557Z"
        },
        "trusted": true,
        "id": "MEKGpmnEWZTK"
      },
      "outputs": [],
      "execution_count": null
    },
    {
      "cell_type": "markdown",
      "source": [
        "## Character processing\n",
        "\n"
      ],
      "metadata": {
        "id": "PKaFAQ7MWZTK"
      }
    },
    {
      "cell_type": "code",
      "source": [
        "alphabets = u\"ABCDEFGHIJKLMNOPQRSTUVWXYZ-' \"\n",
        "max_str_len = 24\n",
        "num_characters = len(alphabets) + 1\n",
        "num_of_timestamps = 64\n",
        "\n",
        "def name_to_num(name):\n",
        "    name_num = []\n",
        "    for ch in name:\n",
        "        name_num.append(alphabets.find(ch))\n",
        "    return np.array(name_num)\n",
        "\n",
        "def num_to_name(num):\n",
        "    name = \"\"\n",
        "    for ch in num:\n",
        "        if ch == -1: # CTC blank\n",
        "            break\n",
        "        else:\n",
        "            name += alphabets[ch]\n",
        "    return name"
      ],
      "metadata": {
        "trusted": true,
        "id": "mUUvkw_nWZTL"
      },
      "outputs": [],
      "execution_count": null
    },
    {
      "cell_type": "code",
      "source": [
        "train_y = np.ones([train_size, max_str_len]) * -1\n",
        "train_name_len = np.zeros([train_size, 1])\n",
        "train_input_len = np.ones([train_size, 1]) * (num_of_timestamps-2)\n",
        "train_output = np.zeros([train_size])\n",
        "\n",
        "for i in range(train_size):\n",
        "    train_name_len[i] = len(train_name.loc[i, 'IDENTITY'])\n",
        "    train_y[i, 0:len(train_name.loc[i, 'IDENTITY'])] = name_to_num(train_name.loc[i, 'IDENTITY'])\n",
        "\n",
        "val_y = np.ones([val_size, max_str_len]) * -1\n",
        "val_name_len = np.zeros([val_size, 1])\n",
        "val_input_len = np.ones([val_size, 1]) * (num_of_timestamps-2)\n",
        "val_output = np.zeros([val_size])\n",
        "\n",
        "for i in range(val_size):\n",
        "    val_name_len[i] = len(val_name.loc[i, 'IDENTITY'])\n",
        "    val_y[i, 0:len(val_name.loc[i, 'IDENTITY'])] = name_to_num(val_name.loc[i, 'IDENTITY'])\n",
        "\n",
        "test_y = np.ones([test_size, max_str_len]) * -1\n",
        "test_name_len = np.zeros([test_size, 1])\n",
        "test_input_len = np.ones([test_size, 1]) * (num_of_timestamps-2)\n",
        "test_output = np.zeros([test_size])\n",
        "\n",
        "for i in range(test_size):\n",
        "    test_name_len[i] = len(test_name.loc[i, 'IDENTITY'])\n",
        "    test_y[i, 0:len(test_name.loc[i, 'IDENTITY'])] = name_to_num(test_name.loc[i, 'IDENTITY'])"
      ],
      "metadata": {
        "trusted": true,
        "id": "lHYehy6gWZTL"
      },
      "outputs": [],
      "execution_count": null
    },
    {
      "cell_type": "markdown",
      "source": [
        "## Building a hybrid CNN + RNN model\n",
        "\n",
        "CNN(3 layers)\n",
        "RNN(2 Layers)"
      ],
      "metadata": {
        "id": "FEBSNE7UWZTM"
      }
    },
    {
      "cell_type": "code",
      "source": [
        "import tensorflow as tf\n",
        "from tensorflow.keras.layers import Input, Conv2D, BatchNormalization, Activation, MaxPooling2D, Dropout, Reshape, Dense, Bidirectional, LSTM, Lambda\n",
        "from tensorflow.keras.models import Model\n",
        "from tensorflow.keras.optimizers import Adam\n",
        "import tensorflow.keras.backend as K\n",
        "\n",
        "def ctc_lambda_func(args):\n",
        "    y_pred, names, input_length, name_length = args\n",
        "    y_pred = y_pred[:, 2:, :]\n",
        "    return K.ctc_batch_cost(names, y_pred, input_length, name_length)\n",
        "\n",
        "input_data = Input(shape=(256, 64, 1), name='input')\n",
        "\n",
        "# CNN\n",
        "inner = Conv2D(32, (3, 3), padding='same', name='conv1', kernel_initializer='he_normal')(input_data)\n",
        "inner = BatchNormalization()(inner)\n",
        "inner = Activation('relu')(inner)\n",
        "inner = MaxPooling2D(pool_size=(2,2), name='max1')(inner)\n",
        "\n",
        "inner = Conv2D(64, (3, 3), padding='same', name='conv2', kernel_initializer='he_normal')(inner)\n",
        "inner = BatchNormalization()(inner)\n",
        "inner = Activation('relu')(inner)\n",
        "inner = MaxPooling2D(pool_size=(2,2), name='max2')(inner)\n",
        "inner = Dropout(0.3)(inner)\n",
        "\n",
        "inner = Conv2D(128, (3, 3), padding='same', name='conv3', kernel_initializer='he_normal')(inner)\n",
        "inner = BatchNormalization()(inner)\n",
        "inner = Activation('relu')(inner)\n",
        "inner = MaxPooling2D(pool_size=(1,2), name='max3')(inner)\n",
        "inner = Dropout(0.3)(inner)\n",
        "\n",
        "# CNN to RNN\n",
        "inner = Reshape(target_shape=((64, 1024)), name='reshape')(inner)\n",
        "inner = Dense(64, activation='relu', kernel_initializer='he_normal', name='dense1')(inner)\n",
        "\n",
        "# RNN\n",
        "inner = Bidirectional(LSTM(256, return_sequences=True), name='lstm1')(inner)\n",
        "inner = Bidirectional(LSTM(256, return_sequences=True), name='lstm2')(inner)\n",
        "\n",
        "# Output\n",
        "inner = Dense(num_characters, kernel_initializer='he_normal', name='dense2')(inner)\n",
        "y_pred = Activation('softmax', name='softmax')(inner)\n",
        "\n",
        "model = Model(inputs=input_data, outputs=y_pred)\n",
        "\n",
        "\n",
        "names = Input(name='gtruth_names', shape=[max_str_len], dtype='float32')\n",
        "input_length = Input(name='input_length', shape=[1], dtype='int64')\n",
        "name_length = Input(name='name_length', shape=[1], dtype='int64')\n",
        "\n",
        "\n",
        "ctc_loss = Lambda(ctc_lambda_func, output_shape=(1,), name='ctc')([y_pred, names, input_length, name_length])\n",
        "model_final = Model(inputs=[input_data, names, input_length, name_length], outputs=ctc_loss)\n",
        "model_final.compile(loss={'ctc': lambda y_true, y_pred: y_pred}, optimizer=Adam(learning_rate=0.0001))\n"
      ],
      "metadata": {
        "trusted": true,
        "id": "b8DMBqn8WZTM"
      },
      "outputs": [],
      "execution_count": null
    },
    {
      "cell_type": "markdown",
      "source": [
        "## Training the model\n",
        "\n"
      ],
      "metadata": {
        "id": "oZOJ0up5WZTN"
      }
    },
    {
      "cell_type": "code",
      "source": [
        "model_final.fit(x = [train_x, train_y, train_input_len, train_name_len], y=train_output, validation_data = ([val_x, val_y, val_input_len, val_name_len], val_output), epochs=60, batch_size=128)"
      ],
      "metadata": {
        "trusted": true,
        "id": "GFDZrNPhWZTN"
      },
      "outputs": [],
      "execution_count": null
    },
    {
      "cell_type": "markdown",
      "source": [
        "## validation\n",
        "\n"
      ],
      "metadata": {
        "id": "uek29mnCWZTN"
      }
    },
    {
      "cell_type": "code",
      "source": [
        "preds = model.predict(val_x)\n",
        "decoded = K.get_value(K.ctc_decode(preds, input_length=np.ones(preds.shape[0])*preds.shape[1], greedy=True)[0][0])\n",
        "\n",
        "prediction = []\n",
        "for i in range(val_size):\n",
        "    prediction.append(num_to_name(decoded[i]))\n",
        "\n",
        "y_true = val_name.loc[0:val_size, 'IDENTITY']\n",
        "correct_char = 0\n",
        "total_char = 0\n",
        "correct = 0\n",
        "\n",
        "for i in range(val_size):\n",
        "    pr = prediction[i]\n",
        "    tr = y_true[i]\n",
        "    total_char += len(tr)\n",
        "\n",
        "    for j in range(min(len(tr), len(pr))):\n",
        "        if tr[j] == pr[j]:\n",
        "            correct_char += 1\n",
        "\n",
        "    if pr == tr:\n",
        "        correct += 1\n",
        "\n",
        "print('Correct characters predicted: %.2f%%' %(correct_char*100/total_char))\n",
        "print('Correct words predicted: %.2f%%' %(correct*100/val_size))"
      ],
      "metadata": {
        "execution": {
          "iopub.status.busy": "2024-07-19T19:39:59.190247Z",
          "iopub.execute_input": "2024-07-19T19:39:59.191021Z",
          "iopub.status.idle": "2024-07-19T19:40:02.860838Z",
          "shell.execute_reply.started": "2024-07-19T19:39:59.190979Z",
          "shell.execute_reply": "2024-07-19T19:40:02.859598Z"
        },
        "trusted": true,
        "id": "FS68mzR4WZTO"
      },
      "outputs": [],
      "execution_count": null
    },
    {
      "cell_type": "markdown",
      "source": [
        "## test\n",
        "\n"
      ],
      "metadata": {
        "id": "gSlVvDY_WZTO"
      }
    },
    {
      "cell_type": "code",
      "source": [
        "from tensorflow.keras.models import Model, load_model\n",
        "mod=load_model(\"/kaggle/input/model2/keras/default/1/modelh.h5\")\n",
        "\n",
        "plt.figure(figsize=(15,10))\n",
        "\n",
        "for i in range(6):\n",
        "    ax = plt.subplot(2, 3, i+1)\n",
        "    img_dir = '../input/handwriting-recognition/test_v2/test/'+test_name.loc[i, 'FILENAME']\n",
        "    image = cv2.imread(img_dir, cv2.IMREAD_GRAYSCALE)\n",
        "    plt.imshow(image, cmap = 'gray')\n",
        "\n",
        "    image = image_processing(image)\n",
        "    image = image/255.\n",
        "    pred = mod.predict(image.reshape(1, 256, 64, 1))\n",
        "    decoded = K.get_value(K.ctc_decode(pred, input_length = np.ones(pred.shape[0])*pred.shape[1], greedy=True)[0][0])\n",
        "    plt.title(num_to_name(decoded[0]), fontsize=12)\n",
        "    plt.axis('off')\n",
        "\n",
        "plt.subplots_adjust(wspace=0.2, hspace=-0.8)"
      ],
      "metadata": {
        "execution": {
          "iopub.status.busy": "2024-07-19T20:54:54.505201Z",
          "iopub.execute_input": "2024-07-19T20:54:54.505668Z",
          "iopub.status.idle": "2024-07-19T20:54:58.39646Z",
          "shell.execute_reply.started": "2024-07-19T20:54:54.505631Z",
          "shell.execute_reply": "2024-07-19T20:54:58.395294Z"
        },
        "trusted": true,
        "id": "cjR2JAKzWZTP"
      },
      "outputs": [],
      "execution_count": null
    },
    {
      "cell_type": "markdown",
      "source": [
        "## Predictions"
      ],
      "metadata": {
        "id": "ZTeSJcAUWZTP"
      }
    },
    {
      "cell_type": "code",
      "source": [
        "import os\n",
        "import cv2\n",
        "import numpy as np\n",
        "import matplotlib.pyplot as plt\n",
        "from tensorflow.keras.models import load_model\n",
        "from tensorflow.keras import backend as K\n",
        "\n",
        "# Load the pre-trained model\n",
        "mod = load_model(\"/kaggle/input/model2/keras/default/1/modelh.h5\")\n",
        "\n",
        "# Preprocessing function\n",
        "def image_processing(img):\n",
        "    (h, w) = img.shape\n",
        "\n",
        "    final_img = np.ones([64, 256]) * 255  # blank white image\n",
        "\n",
        "    # Crop if image dimensions exceed the criteria\n",
        "    if w > 256:\n",
        "        img = img[:, :256]\n",
        "    if h > 64:\n",
        "        img = img[:64, :]\n",
        "\n",
        "    final_img[:h, :w] = img\n",
        "    return cv2.rotate(final_img, cv2.ROTATE_90_CLOCKWISE)\n",
        "\n",
        "# Function to convert prediction to readable text\n",
        "def num_to_name(num):\n",
        "    alphabets = u\"ABCDEFGHIJKLMNOPQRSTUVWXYZ-' \"\n",
        "    name = \"\"\n",
        "    for ch in num:\n",
        "        if ch == -1:  # CTC blank\n",
        "            break\n",
        "        else:\n",
        "            name += alphabets[ch]\n",
        "    return name\n",
        "\n",
        "# Path to the custom directory containing the images\n",
        "custom_image_dir = '../input/handwriting-recognition/test_v2/test/'\n",
        "\n",
        "# List all filenames in the custom directory\n",
        "filenames = os.listdir(custom_image_dir)\n",
        "\n",
        "# Create a figure for plotting\n",
        "plt.figure(figsize=(15, 10))\n",
        "\n",
        "# Iterate over the filenames and process each image\n",
        "for i, filename in enumerate(filenames):\n",
        "    if i >= 6:  # Display only the first 6 images\n",
        "        break\n",
        "\n",
        "    ax = plt.subplot(2, 3, i + 1)\n",
        "    img_path = os.path.join(custom_image_dir, filename)\n",
        "    image = cv2.imread(img_path, cv2.IMREAD_GRAYSCALE)\n",
        "\n",
        "    plt.imshow(image, cmap='gray')\n",
        "\n",
        "    image = image_processing(image)\n",
        "    image = image / 255.0\n",
        "    pred = mod.predict(image.reshape(1, 256, 64, 1))\n",
        "    decoded = K.get_value(K.ctc_decode(pred, input_length=np.ones(pred.shape[0]) * pred.shape[1], greedy=True)[0][0])\n",
        "    plt.title(num_to_name(decoded[0]), fontsize=12)\n",
        "    plt.axis('off')\n",
        "\n",
        "# Adjust the layout\n",
        "plt.subplots_adjust(wspace=0.2, hspace=-0.8)\n",
        "plt.show()"
      ],
      "metadata": {
        "execution": {
          "iopub.status.busy": "2024-07-20T07:01:10.801419Z",
          "iopub.execute_input": "2024-07-20T07:01:10.802023Z",
          "iopub.status.idle": "2024-07-20T07:01:33.639778Z",
          "shell.execute_reply.started": "2024-07-20T07:01:10.801941Z",
          "shell.execute_reply": "2024-07-20T07:01:33.638203Z"
        },
        "trusted": true,
        "id": "mk-l1gBkWZTr"
      },
      "outputs": [],
      "execution_count": null
    },
    {
      "cell_type": "code",
      "source": [
        "import os\n",
        "import cv2\n",
        "import numpy as np\n",
        "import matplotlib.pyplot as plt\n",
        "from tensorflow.keras.models import load_model\n",
        "from tensorflow.keras import backend as K\n",
        "\n",
        "# Load the pre-trained model\n",
        "mod = load_model(\"/kaggle/input/model2/keras/default/1/modelh.h5\")\n",
        "\n",
        "# Preprocessing function\n",
        "def image_processing(img):\n",
        "    (h, w) = img.shape\n",
        "\n",
        "    final_img = np.ones([64, 256]) * 255  # blank white image\n",
        "\n",
        "    # Crop if image dimensions exceed the criteria\n",
        "    if w > 256:\n",
        "        img = img[:, :256]\n",
        "    if h > 64:\n",
        "        img = img[:64, :]\n",
        "\n",
        "    final_img[:h, :w] = img\n",
        "    return cv2.rotate(final_img, cv2.ROTATE_90_CLOCKWISE)\n",
        "\n",
        "# Function to convert prediction to readable text\n",
        "def num_to_name(num):\n",
        "    alphabets = u\"ABCDEFGHIJKLMNOPQRSTUVWXYZ-' \"\n",
        "    name = \"\"\n",
        "    for ch in num:\n",
        "        if ch == -1:  # CTC blank\n",
        "            break\n",
        "        else:\n",
        "            name += alphabets[ch]\n",
        "    return name\n",
        "\n",
        "# Path to the custom directory containing the images\n",
        "custom_image_dir = '/kaggle/input/trial6/des2'\n",
        "\n",
        "# List all filenames in the custom directory\n",
        "filenames = os.listdir(custom_image_dir)\n",
        "\n",
        "# Create a figure for plotting\n",
        "plt.figure(figsize=(15, 10))\n",
        "\n",
        "# Iterate over the filenames and process each image\n",
        "for i, filename in enumerate(filenames):\n",
        "    if i >= 6:  # Display only the first 6 images\n",
        "        break\n",
        "\n",
        "    ax = plt.subplot(2, 3, i + 1)\n",
        "    img_path = os.path.join(custom_image_dir, filename)\n",
        "    image = cv2.imread(img_path, cv2.IMREAD_GRAYSCALE)\n",
        "\n",
        "    plt.imshow(image, cmap='gray')\n",
        "\n",
        "    image = image_processing(image)\n",
        "    image = image / 255.0\n",
        "    pred = mod.predict(image.reshape(1, 256, 64, 1))\n",
        "    decoded = K.get_value(K.ctc_decode(pred, input_length=np.ones(pred.shape[0]) * pred.shape[1], greedy=True)[0][0])\n",
        "    plt.title(num_to_name(decoded[0]), fontsize=12)\n",
        "    plt.axis('off')\n",
        "\n",
        "# Adjust the layout\n",
        "plt.subplots_adjust(wspace=0.2, hspace=-0.8)\n",
        "plt.show()"
      ],
      "metadata": {
        "execution": {
          "iopub.status.busy": "2024-07-20T07:01:38.215134Z",
          "iopub.execute_input": "2024-07-20T07:01:38.216169Z",
          "iopub.status.idle": "2024-07-20T07:01:41.530621Z",
          "shell.execute_reply.started": "2024-07-20T07:01:38.216116Z",
          "shell.execute_reply": "2024-07-20T07:01:41.529343Z"
        },
        "trusted": true,
        "id": "wakcgfxOWZTr"
      },
      "outputs": [],
      "execution_count": null
    }
  ]
}